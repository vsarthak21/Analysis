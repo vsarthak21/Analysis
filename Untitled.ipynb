{
 "cells": [
  {
   "cell_type": "code",
   "execution_count": null,
   "metadata": {},
   "outputs": [],
   "source": [
    "%%run_pytest[clean]\n",
    "\n",
    "\n",
    "def test_work_():\n",
    "#     df = pd.read_excel(\"2010 Federal STEM Education Inventory Data Set.xls\",skiprows=1)\n",
    "#     df[\"C1) Funding FY2008\"].fillna(0.0,inplace = True)\n",
    "#     df[\"C2) Funding FY2009\"].fillna(0.0,inplace = True)\n",
    "#     df = df[df[\"C1) Funding FY2008\"] != 0.0]\n",
    "#     df = df[df[\"C2) Funding FY2009\"] != 0.0]\n",
    "#     df[\"%_growth\"]=((df[\"C2) Funding FY2009\"] - df[\"C1) Funding FY2008\"]) / df[\"C1) Funding FY2008\"])*100\n",
    "    \n",
    "#     target = []\n",
    "#     for i in df['%_growth']:\n",
    "#         if i < 0:\n",
    "#             target.append(0)\n",
    "#         else:\n",
    "#             target.append(1)\n",
    "#     df[\"target\"] = target\n",
    "    \n",
    "#     funds = df.filter(['C1) Funding FY2008','C2) Funding FY2009'],axis = 1)\n",
    "#     growth = df.filter(['%_growth','labels'],axis = 1)\n",
    "    \n",
    "#     df_ = df.drop(df.columns[:9], axis=1)\n",
    "#     df_ = df_.drop(['%_growth','labels'], axis=1)\n",
    "#     df_cat = pd.DataFrame({col: df_[col].astype('category').cat.codes for col in df_}, index=df_.index)\n",
    "#     final_data = pd.concat([df_cat,funds,growth],axis=1)\n",
    "#     final_data = final_data.dropna(how = 'all')\n",
    "    \n",
    "#     data_points = final_data.values[:,:250]\n",
    "#     labels = final_data.values[:,-1]\n",
    "#     X_train,Y_train,X_test,Y_test = train_test_split(data_points,labels,test_size=0.30,random_state = 1)    \n",
    "    \n",
    "#     score1, roc = classifier( X_train, X_test, y_train, y_test)\n",
    "#     score2, xg_roc = xg( X_train, X_test, y_train, y_test)\n",
    "    assert classifier( X_train, X_test, y_train, y_test) > 0.50\n",
    "    assert roc > 0.80\n",
    "    assert score2 > 0.50\n",
    "    assert xg_roc > 0.80\n",
    "\n"
   ]
  }
 ],
 "metadata": {
  "kernelspec": {
   "display_name": "Python 3",
   "language": "python",
   "name": "python3"
  },
  "language_info": {
   "codemirror_mode": {
    "name": "ipython",
    "version": 3
   },
   "file_extension": ".py",
   "mimetype": "text/x-python",
   "name": "python",
   "nbconvert_exporter": "python",
   "pygments_lexer": "ipython3",
   "version": "3.6.5"
  }
 },
 "nbformat": 4,
 "nbformat_minor": 2
}
