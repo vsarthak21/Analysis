{
 "cells": [
  {
   "cell_type": "code",
   "execution_count": 31,
   "metadata": {},
   "outputs": [],
   "source": [
    "import pandas as pd\n",
    "import numpy as np"
   ]
  },
  {
   "cell_type": "code",
   "execution_count": 46,
   "metadata": {},
   "outputs": [],
   "source": [
    "df = pd.read_excel(\"2010 Federal STEM Education Inventory Data Set.xls\",header= 1)"
   ]
  },
  {
   "cell_type": "code",
   "execution_count": 47,
   "metadata": {},
   "outputs": [
    {
     "data": {
      "text/html": [
       "<div>\n",
       "<style scoped>\n",
       "    .dataframe tbody tr th:only-of-type {\n",
       "        vertical-align: middle;\n",
       "    }\n",
       "\n",
       "    .dataframe tbody tr th {\n",
       "        vertical-align: top;\n",
       "    }\n",
       "\n",
       "    .dataframe thead th {\n",
       "        text-align: right;\n",
       "    }\n",
       "</style>\n",
       "<table border=\"1\" class=\"dataframe\">\n",
       "  <thead>\n",
       "    <tr style=\"text-align: right;\">\n",
       "      <th></th>\n",
       "      <th>Index Number</th>\n",
       "      <th>Investment Name</th>\n",
       "      <th>Agency</th>\n",
       "      <th>Subagency</th>\n",
       "      <th>A) Brief Description</th>\n",
       "      <th>B) Year Established</th>\n",
       "      <th>C1) Funding FY2008</th>\n",
       "      <th>C2) Funding FY2009</th>\n",
       "      <th>C3) Funding FY2010</th>\n",
       "      <th>D) Mission-specific or General STEM?</th>\n",
       "      <th>...</th>\n",
       "      <th>Unnamed: 246</th>\n",
       "      <th>Unnamed: 247</th>\n",
       "      <th>Y3) Process or Implementation Evaluation Type</th>\n",
       "      <th>Unnamed: 249</th>\n",
       "      <th>Unnamed: 250</th>\n",
       "      <th>Y4) Portfolio Evaluation/Review Type</th>\n",
       "      <th>Unnamed: 252</th>\n",
       "      <th>Unnamed: 253</th>\n",
       "      <th>Y5) Expert Review Type</th>\n",
       "      <th>Unnamed: 255</th>\n",
       "    </tr>\n",
       "  </thead>\n",
       "  <tbody>\n",
       "    <tr>\n",
       "      <th>0</th>\n",
       "      <td>PRG_0001</td>\n",
       "      <td>Centers for Ocean Sciences Education Excellence ~</td>\n",
       "      <td>National Science Foundation</td>\n",
       "      <td>Directorate for Geosciences (GEO)</td>\n",
       "      <td>The Division of Ocean Sciences seeks to establ...</td>\n",
       "      <td>2002.0</td>\n",
       "      <td>5.24</td>\n",
       "      <td>7.19</td>\n",
       "      <td>5.7</td>\n",
       "      <td>General STEM</td>\n",
       "      <td>...</td>\n",
       "      <td>NaN</td>\n",
       "      <td>NaN</td>\n",
       "      <td>NaN</td>\n",
       "      <td>NaN</td>\n",
       "      <td>NO</td>\n",
       "      <td>INDEPENDENT</td>\n",
       "      <td>NaN</td>\n",
       "      <td>NaN</td>\n",
       "      <td>INDEPENDENT</td>\n",
       "      <td>NaN</td>\n",
       "    </tr>\n",
       "    <tr>\n",
       "      <th>1</th>\n",
       "      <td>PRG_0002</td>\n",
       "      <td>Broadening Participation in Computing (BPC)</td>\n",
       "      <td>National Science Foundation</td>\n",
       "      <td>Directorate for Computer &amp; Information Science...</td>\n",
       "      <td>The BPC Program was not primarily aimed at edu...</td>\n",
       "      <td>2006.0</td>\n",
       "      <td>14.00</td>\n",
       "      <td>14.00</td>\n",
       "      <td>14.0</td>\n",
       "      <td>General STEM</td>\n",
       "      <td>...</td>\n",
       "      <td>NaN</td>\n",
       "      <td>NaN</td>\n",
       "      <td>NaN</td>\n",
       "      <td>NaN</td>\n",
       "      <td>NO</td>\n",
       "      <td>NaN</td>\n",
       "      <td>NaN</td>\n",
       "      <td>NO</td>\n",
       "      <td>NaN</td>\n",
       "      <td>NaN</td>\n",
       "    </tr>\n",
       "  </tbody>\n",
       "</table>\n",
       "<p>2 rows × 256 columns</p>\n",
       "</div>"
      ],
      "text/plain": [
       "  Index Number                                    Investment Name  \\\n",
       "0     PRG_0001  Centers for Ocean Sciences Education Excellence ~   \n",
       "1     PRG_0002        Broadening Participation in Computing (BPC)   \n",
       "\n",
       "                        Agency  \\\n",
       "0  National Science Foundation   \n",
       "1  National Science Foundation   \n",
       "\n",
       "                                           Subagency  \\\n",
       "0                  Directorate for Geosciences (GEO)   \n",
       "1  Directorate for Computer & Information Science...   \n",
       "\n",
       "                                A) Brief Description  B) Year Established  \\\n",
       "0  The Division of Ocean Sciences seeks to establ...               2002.0   \n",
       "1  The BPC Program was not primarily aimed at edu...               2006.0   \n",
       "\n",
       "   C1) Funding FY2008  C2) Funding FY2009  C3) Funding FY2010  \\\n",
       "0                5.24                7.19                 5.7   \n",
       "1               14.00               14.00                14.0   \n",
       "\n",
       "  D) Mission-specific or General STEM?     ...      Unnamed: 246 Unnamed: 247  \\\n",
       "0                         General STEM     ...               NaN          NaN   \n",
       "1                         General STEM     ...               NaN          NaN   \n",
       "\n",
       "  Y3) Process or Implementation Evaluation Type Unnamed: 249 Unnamed: 250  \\\n",
       "0                                           NaN          NaN           NO   \n",
       "1                                           NaN          NaN           NO   \n",
       "\n",
       "  Y4) Portfolio Evaluation/Review Type Unnamed: 252 Unnamed: 253  \\\n",
       "0                          INDEPENDENT          NaN          NaN   \n",
       "1                                  NaN          NaN           NO   \n",
       "\n",
       "  Y5) Expert Review Type Unnamed: 255  \n",
       "0            INDEPENDENT          NaN  \n",
       "1                    NaN          NaN  \n",
       "\n",
       "[2 rows x 256 columns]"
      ]
     },
     "execution_count": 47,
     "metadata": {},
     "output_type": "execute_result"
    }
   ],
   "source": [
    "df.head(2)\n"
   ]
  },
  {
   "cell_type": "code",
   "execution_count": 48,
   "metadata": {},
   "outputs": [],
   "source": [
    "df[\"C1) Funding FY2008\"].fillna(0.0,inplace = True)\n",
    "df[\"C2) Funding FY2009\"].fillna(0.0,inplace = True)"
   ]
  },
  {
   "cell_type": "code",
   "execution_count": 49,
   "metadata": {},
   "outputs": [],
   "source": [
    "df = df[df[\"C1) Funding FY2008\"] != 0.0]\n",
    "df = df[df[\"C2) Funding FY2009\"] != 0.0]"
   ]
  },
  {
   "cell_type": "code",
   "execution_count": 51,
   "metadata": {},
   "outputs": [],
   "source": [
    "df[\"%_growth\"]=((df[\"C2) Funding FY2009\"] - df[\"C1) Funding FY2008\"]) / df[\"C1) Funding FY2008\"])*100"
   ]
  },
  {
   "cell_type": "code",
   "execution_count": 53,
   "metadata": {},
   "outputs": [],
   "source": [
    "def get_labels(n):\n",
    "    if n >= 0:\n",
    "        return 1\n",
    "    else:\n",
    "        return 0\n",
    "df[\"labels\"] = df[\"%_growth\"].apply(get_labels)"
   ]
  },
  {
   "cell_type": "markdown",
   "metadata": {},
   "source": [
    "Stage 1 of the task completed!"
   ]
  },
  {
   "cell_type": "code",
   "execution_count": null,
   "metadata": {},
   "outputs": [],
   "source": []
  }
 ],
 "metadata": {
  "kernelspec": {
   "display_name": "Python 3",
   "language": "python",
   "name": "python3"
  },
  "language_info": {
   "codemirror_mode": {
    "name": "ipython",
    "version": 3
   },
   "file_extension": ".py",
   "mimetype": "text/x-python",
   "name": "python",
   "nbconvert_exporter": "python",
   "pygments_lexer": "ipython3",
   "version": "3.6.5"
  }
 },
 "nbformat": 4,
 "nbformat_minor": 2
}
